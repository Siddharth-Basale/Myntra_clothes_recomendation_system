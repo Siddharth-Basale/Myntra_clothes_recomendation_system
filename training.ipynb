{
 "cells": [
  {
   "cell_type": "code",
   "execution_count": 39,
   "metadata": {},
   "outputs": [],
   "source": [
    "import re\n",
    "from nltk.tokenize import TreebankWordTokenizer\n",
    "from nltk.corpus import stopwords\n",
    "import pandas as pd\n",
    "from sklearn.feature_extraction.text import TfidfVectorizer\n",
    "from sklearn.metrics.pairwise import cosine_similarity"
   ]
  },
  {
   "cell_type": "code",
   "execution_count": 40,
   "metadata": {},
   "outputs": [],
   "source": [
    "stop_words = set(stopwords.words('english'))"
   ]
  },
  {
   "cell_type": "code",
   "execution_count": 41,
   "metadata": {},
   "outputs": [],
   "source": [
    "def clean_text(text):\n",
    "    # Check if the text is a string, if not, return an empty string\n",
    "    if not isinstance(text, str):\n",
    "        return ''\n",
    "    text = re.sub(r'[^a-zA-Z\\s]', '', text)  # Remove special characters and numbers\n",
    "    tokens = tokenizer.tokenize(text.lower())  # Tokenize using TreebankWordTokenizer\n",
    "    tokens = [word for word in tokens if word not in stop_words]  # Remove stopwords\n",
    "    return ' '.join(tokens)"
   ]
  },
  {
   "cell_type": "code",
   "execution_count": 42,
   "metadata": {},
   "outputs": [],
   "source": [
    "data = pd.read_csv('data.csv')"
   ]
  },
  {
   "cell_type": "code",
   "execution_count": 43,
   "metadata": {},
   "outputs": [],
   "source": [
    "data['Cleaned_ProductName'] = data['ProductName'].apply(clean_text)\n",
    "data['Cleaned_Description'] = data['Description'].apply(clean_text)\n",
    "data['Cleaned_PrimaryColor'] = data['PrimaryColor'].apply(clean_text)"
   ]
  },
  {
   "cell_type": "code",
   "execution_count": 44,
   "metadata": {},
   "outputs": [],
   "source": [
    "data['Combined_Text'] = data['Cleaned_ProductName'] + \" \" + data['Cleaned_Description']\n"
   ]
  },
  {
   "cell_type": "code",
   "execution_count": 45,
   "metadata": {},
   "outputs": [],
   "source": [
    "vectorizer = TfidfVectorizer()\n"
   ]
  },
  {
   "cell_type": "code",
   "execution_count": 46,
   "metadata": {},
   "outputs": [],
   "source": [
    "tfidf_matrix = vectorizer.fit_transform(data['Combined_Text'])\n"
   ]
  },
  {
   "cell_type": "code",
   "execution_count": null,
   "metadata": {},
   "outputs": [],
   "source": [
    "def recommend_products(query, top_n=5):\n",
    "    # Clean the user query\n",
    "    cleaned_query = clean_text(query)\n",
    "\n",
    "    # Vectorize the user query\n",
    "    query_vector = vectorizer.transform([cleaned_query])\n",
    "\n",
    "    # Calculate cosine similarities between query and product descriptions\n",
    "    cosine_similarities = cosine_similarity(query_vector, tfidf_matrix).flatten()\n",
    "\n",
    "    # Get the top N most similar products\n",
    "    top_indices = cosine_similarities.argsort()[-top_n:][::-1]\n",
    "\n",
    "    # Recommend products\n",
    "    print(f\"Recommendations for: '{query}'\\n\")\n",
    "    for idx in top_indices:\n",
    "        product_id = data.iloc[idx]['ProductID']\n",
    "        product_name = data.iloc[idx]['ProductName']\n",
    "        primary_color = data.iloc[idx]['PrimaryColor']\n",
    "        description = data.iloc[idx]['Description']\n",
    "        price = data.iloc[idx]['Price (INR)']\n",
    "        product_link = f\"https://www.myntra.com/{product_id}\"\n",
    "\n",
    "\n",
    "        print(f\"Product: {product_name}\")\n",
    "        print(f\"Primary Color: {primary_color}\")\n",
    "        print(f\"Description: {description}\")\n",
    "        print(f\"Price: ₹{price}\")\n",
    "        print(f\"Link: {product_link}\\n\")\n"
   ]
  },
  {
   "cell_type": "code",
   "execution_count": 58,
   "metadata": {},
   "outputs": [
    {
     "name": "stdout",
     "output_type": "stream",
     "text": [
      "Recommendations for: 'men hoodie'\n",
      "\n",
      "Product ID: 10259457\n",
      "Product: hummel Men Blue Solid Hooded Sweatshirt\n",
      "Primary Color: Blue\n",
      "Description: Winter is coming, and the Blue hummel Core Cotton Hoodie is here to keep you warm! The soft Cotton material makes it highly comfortable and ideal to wear in the chilly days. The iconic chevron tape sleeves and smart detailing make this hoodie unique.\n",
      "Price: ₹1199\n",
      "Link: https://www.myntra.com/10259457\n",
      "\n",
      "Product ID: 10145047\n",
      "Product: GAP Boys Logo Hoodie Sweatshirt\n",
      "Primary Color: nan\n",
      "Description: Soft textured fabricLong sleevesHoodedFront pockets\n",
      "Price: ₹1999\n",
      "Link: https://www.myntra.com/10145047\n",
      "\n",
      "Product ID: 10244457\n",
      "Product: GAP Girl's Logo Hoodie Sweatshirt\n",
      "Primary Color: nan\n",
      "Description: Soft fleeceLong raglan sleeves, banded cuffsHoodedLogo at chestBanded hem\n",
      "Price: ₹1999\n",
      "Link: https://www.myntra.com/10244457\n",
      "\n",
      "Product ID: 10244453\n",
      "Product: GAP Girl's Logo Hoodie Sweatshirt\n",
      "Primary Color: nan\n",
      "Description: Soft fleeceLong raglan sleeves, banded cuffsHoodedLogo at chestBanded hem\n",
      "Price: ₹1999\n",
      "Link: https://www.myntra.com/10244453\n",
      "\n",
      "Product ID: 10145019\n",
      "Product: GAP Girls Logo Hoodie Sweatshirt\n",
      "Primary Color: nan\n",
      "Description: Because there's nothing you can't do in GAP.Supersoft fleece knit.Long sleeves with banded cuffs, hem.Hood.Logo at chest.\n",
      "Price: ₹1249\n",
      "Link: https://www.myntra.com/10145019\n",
      "\n"
     ]
    }
   ],
   "source": [
    "user_query = \"men hoodie\"\n",
    "recommend_products(user_query)"
   ]
  },
  {
   "cell_type": "code",
   "execution_count": 60,
   "metadata": {},
   "outputs": [
    {
     "data": {
      "text/plain": [
       "179"
      ]
     },
     "execution_count": 60,
     "metadata": {},
     "output_type": "execute_result"
    }
   ],
   "source": [
    "len(stop_words)"
   ]
  },
  {
   "cell_type": "code",
   "execution_count": null,
   "metadata": {},
   "outputs": [],
   "source": []
  }
 ],
 "metadata": {
  "kernelspec": {
   "display_name": "Python 3",
   "language": "python",
   "name": "python3"
  },
  "language_info": {
   "codemirror_mode": {
    "name": "ipython",
    "version": 3
   },
   "file_extension": ".py",
   "mimetype": "text/x-python",
   "name": "python",
   "nbconvert_exporter": "python",
   "pygments_lexer": "ipython3",
   "version": "3.12.1"
  }
 },
 "nbformat": 4,
 "nbformat_minor": 2
}
